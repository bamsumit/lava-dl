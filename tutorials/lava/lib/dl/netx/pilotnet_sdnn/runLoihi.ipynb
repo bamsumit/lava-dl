{
 "cells": [
  {
   "cell_type": "markdown",
   "metadata": {},
   "source": [
    "# PilotNet SDNN Example\n",
    "\n",
    "Network excange module is available as `lava.lib.dl.netx.{hdf5, blocks, utils}`.\n",
    "* `hdf5` implements automatic network generation.\n",
    "* `blocks` implements individual layer blocks.\n",
    "* `utils` implements hdf5 reading utilities. "
   ]
  },
  {
   "cell_type": "code",
   "execution_count": 1,
   "metadata": {},
   "outputs": [],
   "source": [
    "import numpy as np\n",
    "import matplotlib.pyplot as plt\n",
    "from PIL import Image\n",
    "\n",
    "from lava.magma.core.process.process import AbstractProcess\n",
    "from lava.magma.core.process.variable import Var\n",
    "from lava.magma.core.process.ports.ports import InPort, OutPort\n",
    "from lava.magma.core.model.py.model import PyLoihiProcessModel\n",
    "from lava.magma.core.run_configs import Loihi1SimCfg\n",
    "from lava.magma.core.run_conditions import RunSteps\n",
    "from lava.magma.core.decorator import implements, requires, tag\n",
    "from lava.magma.core.sync.protocols.loihi_protocol import LoihiProtocol\n",
    "from lava.proc.sdn.process import Delta\n",
    "from lava.proc.sdn.models import AbstractDeltaModel, LavaPyType, PyInPort, PyOutPort, CPU\n",
    "from lava.proc import io\n",
    "\n",
    "from lava.lib.dl import netx\n",
    "from dataset import PilotNetDataset"
   ]
  },
  {
   "cell_type": "markdown",
   "metadata": {},
   "source": [
    "# Import modules for Loihi2 execution\n",
    "\n",
    "Check if Loihi2 compiker is available and import related modules."
   ]
  },
  {
   "cell_type": "code",
   "execution_count": 2,
   "metadata": {},
   "outputs": [],
   "source": [
    "loihi2_is_available = netx.utils.Loihi2Exec.is_loihi2_available\n",
    "\n",
    "if loihi2_is_available:\n",
    "    import logging\n",
    "    from lava.magma.core.run_configs import Loihi2HwCfg\n",
    "    from lava.proc import snip_io as sio\n",
    "else:\n",
    "    print(\"Loihi2 compiler is not available in this system. \"\n",
    "          \"This tutorial will execute on CPU backend.\")\n",
    "# loihi2_is_available = False"
   ]
  },
  {
   "cell_type": "markdown",
   "metadata": {},
   "source": [
    "## Create network block\n",
    "\n",
    "PilotNet SDNN is described by the hdf5 file interface `network.net` exported after training.\n",
    "\n",
    "A network block can be created by simply instantiating `netx.hdf5.Network` with the path of the desired hdf5 network description file.\n",
    "* The input layer is accessible as `net.in_layer`.\n",
    "* The output layer is accessible as `net.out_layer`.\n",
    "* All the constituent layers are accessible as as a list: `net.layers`."
   ]
  },
  {
   "cell_type": "code",
   "execution_count": 3,
   "metadata": {},
   "outputs": [
    {
     "name": "stdout",
     "output_type": "stream",
     "text": [
      "|   Type   |  W  |  H  |  C  | ker | str | pad | dil | grp |delay|\n",
      "|Conv      |   99|   32|   24| 3, 3| 2, 2| 0, 0| 1, 1|    1|False|\n",
      "|Conv      |   49|   15|   36| 3, 3| 2, 2| 0, 0| 1, 1|    1|False|\n",
      "|Conv      |   24|    7|   48| 3, 3| 2, 2| 0, 0| 1, 1|    1|False|\n",
      "|Conv      |   22|    4|   64| 3, 3| 1, 2| 0, 1| 1, 1|    1|False|\n",
      "|Conv      |   20|    2|   64| 3, 3| 1, 1| 0, 0| 1, 1|    1|False|\n",
      "|Dense     |    1|    1|  100|     |     |     |     |     |False|\n",
      "|Dense     |    1|    1|   50|     |     |     |     |     |False|\n",
      "|Dense     |    1|    1|   10|     |     |     |     |     |False|\n",
      "|Dense     |    1|    1|    1|     |     |     |     |     |False|\n"
     ]
    }
   ],
   "source": [
    "# We perform delta encoding calculation of first layer always on CPU and send it to Loihi2.\n",
    "net = netx.hdf5.Network(net_config='network.net', skip_layers=1)\n",
    "print(net)"
   ]
  },
  {
   "cell_type": "code",
   "execution_count": 4,
   "metadata": {},
   "outputs": [
    {
     "name": "stdout",
     "output_type": "stream",
     "text": [
      "There are 9 layers in network:\n",
      "Conv  : Process_3 , shape : (99, 32, 24)\n",
      "Conv  : Process_6 , shape : (49, 15, 36)\n",
      "Conv  : Process_9 , shape : (24, 7, 48)\n",
      "Conv  : Process_12, shape : (22, 4, 64)\n",
      "Conv  : Process_15, shape : (20, 2, 64)\n",
      "Dense : Process_18, shape : (100,)\n",
      "Dense : Process_21, shape : (50,)\n",
      "Dense : Process_24, shape : (10,)\n",
      "Dense : Process_27, shape : (1,)\n"
     ]
    }
   ],
   "source": [
    "print(f'There are {len(net)} layers in network:')\n",
    "\n",
    "for l in net.layers:\n",
    "    print(f'{l.__class__.__name__:5s} : {l.name:10s}, shape : {l.shape}')"
   ]
  },
  {
   "cell_type": "markdown",
   "metadata": {},
   "source": [
    "## Set execution parameters\n",
    "Configure execution timesteps, input shape and input transformation."
   ]
  },
  {
   "cell_type": "code",
   "execution_count": 5,
   "metadata": {},
   "outputs": [],
   "source": [
    "num_samples = 200\n",
    "steps_per_sample = 1\n",
    "num_steps = num_samples + len(net.layers)"
   ]
  },
  {
   "cell_type": "code",
   "execution_count": 6,
   "metadata": {},
   "outputs": [],
   "source": [
    "input_size = net.net_config['layer'][0]['shape'][::-1][:2]\n",
    "transform = {'weight': 64, 'bias': 0}\n",
    "if 'weight' in net.net_config['layer'][0].keys():\n",
    "    transform['weight'] = net.net_config['layer'][0]['weight']\n",
    "if 'bias' in net.net_config['layer'][0].keys():\n",
    "    transform['bias'] = net.net_config['layer'][0]['bias']"
   ]
  },
  {
   "cell_type": "markdown",
   "metadata": {},
   "source": [
    "## Create Dataset instance\n",
    "Typically the user would write it or provide it."
   ]
  },
  {
   "cell_type": "code",
   "execution_count": 7,
   "metadata": {},
   "outputs": [],
   "source": [
    "full_set = PilotNetDataset(\n",
    "    path='../data',\n",
    "    size=input_size,\n",
    "    transform=transform, # input transform\n",
    "    visualize=True, # visualize ensures the images are returned in sequence\n",
    "    sample_offset=10550,\n",
    ")\n",
    "train_set = PilotNetDataset(\n",
    "    path='../data',\n",
    "    size=input_size,\n",
    "    transform=transform, # input transform\n",
    "    train=True,\n",
    ")\n",
    "test_set = PilotNetDataset(\n",
    "    path='../data',\n",
    "    size=input_size,\n",
    "    transform=transform, # input transform\n",
    "    train=False,\n",
    ")"
   ]
  },
  {
   "cell_type": "markdown",
   "metadata": {},
   "source": [
    "# Instantiate Dataloader"
   ]
  },
  {
   "cell_type": "code",
   "execution_count": 8,
   "metadata": {},
   "outputs": [],
   "source": [
    "dataloader = io.dataloader.SpikeDataloader(dataset=full_set)"
   ]
  },
  {
   "cell_type": "markdown",
   "metadata": {},
   "source": [
    "# Delta Encoder\n",
    "\n",
    "Delta encodes performs frame difference of consecutive input frames which removes temporally redundant features and sparsifies the network input."
   ]
  },
  {
   "cell_type": "code",
   "execution_count": 9,
   "metadata": {},
   "outputs": [],
   "source": [
    "class DeltaEncoder(Delta):\n",
    "    \"\"\"Performs difference encoding of consecutive input frames to sparsify input.\"\"\"\n",
    "    def __init__(self, **kwargs) -> None:\n",
    "        super().__init__(**kwargs)\n",
    "\n",
    "@implements(proc=DeltaEncoder, protocol=LoihiProtocol)\n",
    "@requires(CPU)\n",
    "class PyDeltaEncoderModel(AbstractDeltaModel):\n",
    "    \"\"\"Implementation of Delta encoder.\"\"\"\n",
    "    a_in = LavaPyType(PyInPort.VEC_DENSE, np.int32, precision=24)\n",
    "    s_out = LavaPyType(PyOutPort.VEC_DENSE, np.int32, precision=24)\n",
    "\n",
    "    vth: np.ndarray = LavaPyType(np.ndarray, np.int32, precision=24)\n",
    "    sigma: np.ndarray = LavaPyType(np.ndarray, np.int32, precision=24)\n",
    "    act: np.ndarray = LavaPyType(np.ndarray, np.int32, precision=24)\n",
    "    residue: np.ndarray = LavaPyType(np.ndarray, np.int32, precision=24)\n",
    "    error: np.ndarray = LavaPyType(np.ndarray, np.int32, precision=24)\n",
    "\n",
    "    spike_exp: np.ndarray = LavaPyType(np.ndarray, np.int32, precision=3)\n",
    "    state_exp: np.ndarray = LavaPyType(np.ndarray, np.int32, precision=3)\n",
    "    cum_error: np.ndarray = LavaPyType(np.ndarray, bool, precision=1)\n",
    "\n",
    "    def run_spk(self) -> None:\n",
    "        # Receive synaptic input\n",
    "        a_in_data = np.left_shift(self.a_in.recv(),\n",
    "                                  self.spike_exp + self.state_exp)\n",
    "        s_out_scaled = self.delta_dynamics(a_in_data)\n",
    "        s_out = np.right_shift(s_out_scaled, self.state_exp)\n",
    "        self.act = a_in_data\n",
    "        self.s_out.send(s_out)\n",
    "\n",
    "input_encoder = DeltaEncoder(shape=tuple(net.net_config['layer'][0]['shape'][::-1]),\n",
    "                             vth=net.net_config['layer'][0]['neuron']['vThMant'],\n",
    "                             spike_exp=6, state_exp=6)"
   ]
  },
  {
   "cell_type": "markdown",
   "metadata": {},
   "source": [
    "# Network visualizer"
   ]
  },
  {
   "cell_type": "code",
   "execution_count": 10,
   "metadata": {},
   "outputs": [],
   "source": [
    "from IPython.display import display, clear_output\n",
    "import matplotlib.pyplot as plt\n",
    "from matplotlib import transforms\n",
    "\n",
    "class PilotNetMonitor(AbstractProcess):\n",
    "    def __init__(self, shape, fig, ax0, ax1, ax2) -> None:\n",
    "        super().__init__(shape=shape)\n",
    "        self.frame_in = InPort(shape=shape)\n",
    "        self.output_in = InPort(shape=(1,))\n",
    "        self.gt_in = InPort(shape=(1,))\n",
    "        self.proc_params['fig'] = fig\n",
    "        self.proc_params['ax0'] = ax0\n",
    "        self.proc_params['ax1'] = ax1\n",
    "        self.proc_params['ax2'] = ax2\n",
    "\n",
    "@implements(proc=PilotNetMonitor, protocol=LoihiProtocol)\n",
    "@requires(CPU)\n",
    "class PilotNetMonitorModel(PyLoihiProcessModel):\n",
    "    frame_in = LavaPyType(PyInPort.VEC_DENSE, float)\n",
    "    output_in = LavaPyType(PyInPort.VEC_DENSE, float)\n",
    "    gt_in = LavaPyType(PyInPort.VEC_DENSE, float)\n",
    "\n",
    "    def __init__(self, proc_params=None) -> None:\n",
    "        super().__init__(proc_params=proc_params)\n",
    "        # self.fig = plt.figure(figsize=(15, 5))\n",
    "        # self.ax1 = self.fig.add_subplot(1, 3, 1)\n",
    "        # self.ax2 = self.fig.add_subplot(1, 3, 2)\n",
    "        # self.ax3 = self.fig.add_subplot(1, 3, 3)\n",
    "        self.fig = self.proc_params['fig']\n",
    "        self.ax1 = self.proc_params['ax0']\n",
    "        self.ax2 = self.proc_params['ax1']\n",
    "        self.ax3 = self.proc_params['ax2']\n",
    "        self.ax1.set_title('Input Frame Difference')\n",
    "        self.ax2.set_title('Network Prediction')\n",
    "        self.ax2.set_ylabel('Prediction angle')\n",
    "        self.ax2.set_xlabel('Frames')\n",
    "        self.gt_history = [0] * 25  # We will see output only after 25 timesteps\n",
    "        self.output_history = []\n",
    "\n",
    "\n",
    "    def run_spk(self) -> None:\n",
    "        frame_data = self.frame_in.recv()\n",
    "        output_data = self.output_in.recv()[0]\n",
    "        gt_data = self.gt_in.recv()[0]\n",
    "        output = (output_data.astype(np.int32) << 8) >> 8\n",
    "        angle = output / (1 << 18)\n",
    "        self.gt_history.append(gt_data)\n",
    "        self.output_history.append(angle)\n",
    "\n",
    "        clear_output(wait=True)\n",
    "        self.ax1.imshow(frame_data)\n",
    "        self.ax2.imshow(frame_data)\n",
    "        # self.ax3.clear()\n",
    "        print(f'{self.gt_history=}')\n",
    "        print(f'{self.output_history=}')\n",
    "        self.ax3.plot(np.array(self.gt_history), label='ground truth')\n",
    "        self.ax3.plot(np.array(self.output_history), label='network prediction')\n",
    "        display(self.fig)\n",
    "        plt.pause(1)\n",
    "\n",
    "        \n"
   ]
  },
  {
   "cell_type": "markdown",
   "metadata": {},
   "source": [
    "# Connect Input and Output\n",
    "\n",
    "TODO: Add figure\n",
    "![pilotnet](PilotNetSDNN.png)"
   ]
  },
  {
   "cell_type": "code",
   "execution_count": 11,
   "metadata": {},
   "outputs": [
    {
     "data": {
      "image/png": "[encoded data removed]",
      "text/plain": [
       "<Figure size 1080x360 with 3 Axes>"
      ]
     },
     "metadata": {
      "needs_background": "light"
     },
     "output_type": "display_data"
    }
   ],
   "source": [
    "# Datalogger blocks\n",
    "gt_logger = io.sink.RingBuffer(shape=(1,), buffer=num_steps)\n",
    "output_logger = io.sink.RingBuffer(shape=net.out.shape, buffer=num_steps)\n",
    "\n",
    "if loihi2_is_available:\n",
    "    # Bridge blocks running on Loihi2 x86 processors to relay input and output.\n",
    "    inp_adapter = sio.spike.PyToN3ConvAdapter(shape=net.inp.shape,\n",
    "                                            num_message_bits=16)\n",
    "    out_adapter = sio.spike.NxToPyAdapter(shape=net.out.shape,\n",
    "                                        num_message_bits=32)\n",
    "\n",
    "# # Monitor\n",
    "# fig = plt.figure(figsize=(15, 5))\n",
    "# ax0 = fig.add_subplot(1, 3, 1)\n",
    "# ax1 = fig.add_subplot(1, 3, 2)\n",
    "# ax2 = fig.add_subplot(1, 3, 3)\n",
    "# monitor = PilotNetMonitor(shape=net.inp.shape,\n",
    "#                           fig=fig, ax0=ax0, ax1=ax1, ax2=ax2)\n",
    "\n",
    "# Create connections\n",
    "dataloader.ground_truth.connect(gt_logger.a_in)\n",
    "dataloader.s_out.connect(input_encoder.a_in)\n",
    "if loihi2_is_available:\n",
    "    input_encoder.s_out.connect(inp_adapter.inp)\n",
    "    inp_adapter.out.connect(net.inp)\n",
    "    net.out_layer.out.connect(out_adapter.inp)\n",
    "    out_adapter.out.connect(output_logger.a_in)\n",
    "else:\n",
    "    input_encoder.s_out.connect(net.inp)\n",
    "    net.out_layer.out.connect(output_logger.a_in)\n",
    "    # input_encoder.s_out.connect(monitor.frame_in)\n",
    "    # dataloader.ground_truth.connect(monitor.gt_in)\n",
    "    # net.out_layer.out.connect(monitor.output_in)"
   ]
  },
  {
   "cell_type": "markdown",
   "metadata": {},
   "source": [
    "## Run"
   ]
  },
  {
   "cell_type": "markdown",
   "metadata": {},
   "source": [
    "### Customize Run Configuration (Only for CPU execution)"
   ]
  },
  {
   "cell_type": "code",
   "execution_count": 12,
   "metadata": {},
   "outputs": [],
   "source": [
    "class CustomRunConfig(Loihi1SimCfg):\n",
    "    def select(self, proc, proc_models):\n",
    "        # customize run config to always use float model for io.sink.RingBuffer\n",
    "        if isinstance(proc, io.sink.RingBuffer):\n",
    "            return io.sink.PyReceiveModelFloat\n",
    "        else:\n",
    "            return super().select(proc, proc_models)"
   ]
  },
  {
   "cell_type": "markdown",
   "metadata": {},
   "source": [
    "### Run the network"
   ]
  },
  {
   "cell_type": "code",
   "execution_count": 13,
   "metadata": {},
   "outputs": [
    {
     "name": "stdout",
     "output_type": "stream",
     "text": [
      "self.gt_history=[0, 0, 0, 0, 0, 0, 0, 0, 0, 0, 0, 0, 0, 0, 0, 0, 0, 0, 0, 0, 0, 0, 0, 0, 0, 0.0, 0.045727626402251434, 0.0439822971502571, 0.040491638646268445, 0.03700098014227979, 0.035255650890285456, 0.035255650890285456, 0.03700098014227979, 0.03874630939427412, 0.03874630939427412, 0.040491638646268445, 0.040491638646268445, 0.040491638646268445, 0.040491638646268445, 0.03700098014227979, 0.033510321638291124, 0.0317649923862968, 0.0317649923862968, 0.0317649923862968, 0.029845130209103034, 0.021118483949131385, 0.0017453292519943296, -0.021118483949131385, -0.045727626402251434, -0.05986479334340551, -0.0651007810993885, -0.06859143960337716, -0.08098327729253689, -0.10035643198967394, -0.130201562198777, -0.18832102629018815, -0.23753931119642827, -0.290248254606657, -0.3274237676741363, -0.3659955441432109, -0.4082325120414737, -0.43301618741979314, -0.48397980157802756, -0.5279620987282847, -0.5878268920716901, -0.6407103684071184, -0.6846926655573754, -0.7918558816298272, -0.8518952078984322, -0.9485864484589182, -1.0119419003063124, -1.0595893888857575, -1.1281808284891346, -1.179144442647369]\n",
      "self.output_history=[0.0, 0.134765625, 0.0, 0.08449554443359375, 1.159454345703125, 1.7571029663085938, -0.5087661743164062, -1.4610748291015625, -1.6198501586914062, -1.6198501586914062, 0.10279083251953125, 0.10279083251953125, 0.10279083251953125, 0.18660736083984375, 0.19548797607421875, 0.19548797607421875, 0.19548797607421875, 0.02489471435546875, 0.02489471435546875, 0.02489471435546875, 0.02489471435546875, 0.02489471435546875, 0.02489471435546875, 0.02489471435546875, 0.02489471435546875, 0.02489471435546875, 0.02489471435546875, 0.02489471435546875, 0.02489471435546875, 0.02489471435546875, 0.02489471435546875, 0.02489471435546875, 0.02489471435546875, 0.02489471435546875, 0.02489471435546875, 0.02489471435546875, 0.02489471435546875, 0.02489471435546875, 0.02489471435546875, 0.02489471435546875, 0.02489471435546875, 0.02489471435546875, 0.02489471435546875, -0.074737548828125, -0.074737548828125, -0.12964630126953125, -0.18480682373046875, -0.22454071044921875, -0.22454071044921875]\n"
     ]
    },
    {
     "ename": "KeyboardInterrupt",
     "evalue": "",
     "output_type": "error",
     "traceback": [
      "\u001b[0;31m---------------------------------------------------------------------------\u001b[0m",
      "\u001b[0;31mKeyboardInterrupt\u001b[0m                         Traceback (most recent call last)",
      "\u001b[1;32m/home/sshresth/lava-nc/lava-dl/tutorials/lava/lib/dl/netx/pilotnet_sdnn/runLoihi.ipynb Cell 25\u001b[0m in \u001b[0;36m<cell line: 6>\u001b[0;34m()\u001b[0m\n\u001b[1;32m      <a href='vscode-notebook-cell://ssh-remote%2Bncl-gpu-04/home/sshresth/lava-nc/lava-dl/tutorials/lava/lib/dl/netx/pilotnet_sdnn/runLoihi.ipynb#X26sdnNjb2RlLXJlbW90ZQ%3D%3D?line=3'>4</a>\u001b[0m     run_config \u001b[39m=\u001b[39m CustomRunConfig(select_tag\u001b[39m=\u001b[39m\u001b[39m'\u001b[39m\u001b[39mfixed_pt\u001b[39m\u001b[39m'\u001b[39m)\n\u001b[1;32m      <a href='vscode-notebook-cell://ssh-remote%2Bncl-gpu-04/home/sshresth/lava-nc/lava-dl/tutorials/lava/lib/dl/netx/pilotnet_sdnn/runLoihi.ipynb#X26sdnNjb2RlLXJlbW90ZQ%3D%3D?line=4'>5</a>\u001b[0m net\u001b[39m.\u001b[39m_log_config\u001b[39m.\u001b[39mlevel \u001b[39m=\u001b[39m logging\u001b[39m.\u001b[39mINFO\n\u001b[0;32m----> <a href='vscode-notebook-cell://ssh-remote%2Bncl-gpu-04/home/sshresth/lava-nc/lava-dl/tutorials/lava/lib/dl/netx/pilotnet_sdnn/runLoihi.ipynb#X26sdnNjb2RlLXJlbW90ZQ%3D%3D?line=5'>6</a>\u001b[0m net\u001b[39m.\u001b[39;49mrun(condition\u001b[39m=\u001b[39;49mRunSteps(num_steps\u001b[39m=\u001b[39;49mnum_steps), run_cfg\u001b[39m=\u001b[39;49mrun_config)\n\u001b[1;32m      <a href='vscode-notebook-cell://ssh-remote%2Bncl-gpu-04/home/sshresth/lava-nc/lava-dl/tutorials/lava/lib/dl/netx/pilotnet_sdnn/runLoihi.ipynb#X26sdnNjb2RlLXJlbW90ZQ%3D%3D?line=6'>7</a>\u001b[0m output \u001b[39m=\u001b[39m output_logger\u001b[39m.\u001b[39mdata\u001b[39m.\u001b[39mget()\u001b[39m.\u001b[39mflatten()\n\u001b[1;32m      <a href='vscode-notebook-cell://ssh-remote%2Bncl-gpu-04/home/sshresth/lava-nc/lava-dl/tutorials/lava/lib/dl/netx/pilotnet_sdnn/runLoihi.ipynb#X26sdnNjb2RlLXJlbW90ZQ%3D%3D?line=7'>8</a>\u001b[0m gts \u001b[39m=\u001b[39m gt_logger\u001b[39m.\u001b[39mdata\u001b[39m.\u001b[39mget()\u001b[39m.\u001b[39mflatten()\n",
      "File \u001b[0;32m~/lava-nc/lava/src/lava/magma/core/process/process.py:345\u001b[0m, in \u001b[0;36mAbstractProcess.run\u001b[0;34m(self, condition, run_cfg, compile_config)\u001b[0m\n\u001b[1;32m    342\u001b[0m     executable\u001b[39m.\u001b[39massign_runtime_to_all_processes(\u001b[39mself\u001b[39m\u001b[39m.\u001b[39m_runtime)\n\u001b[1;32m    343\u001b[0m     \u001b[39mself\u001b[39m\u001b[39m.\u001b[39m_runtime\u001b[39m.\u001b[39minitialize()\n\u001b[0;32m--> 345\u001b[0m \u001b[39mself\u001b[39;49m\u001b[39m.\u001b[39;49m_runtime\u001b[39m.\u001b[39;49mstart(condition)\n",
      "File \u001b[0;32m~/lava-nc/lava/src/lava/magma/runtime/runtime.py:303\u001b[0m, in \u001b[0;36mRuntime.start\u001b[0;34m(self, run_condition)\u001b[0m\n\u001b[1;32m    300\u001b[0m \u001b[39mif\u001b[39;00m \u001b[39mself\u001b[39m\u001b[39m.\u001b[39m_is_initialized:\n\u001b[1;32m    301\u001b[0m     \u001b[39m# Start running\u001b[39;00m\n\u001b[1;32m    302\u001b[0m     \u001b[39mself\u001b[39m\u001b[39m.\u001b[39m_is_started \u001b[39m=\u001b[39m \u001b[39mTrue\u001b[39;00m\n\u001b[0;32m--> 303\u001b[0m     \u001b[39mself\u001b[39;49m\u001b[39m.\u001b[39;49m_run(run_condition)\n\u001b[1;32m    304\u001b[0m \u001b[39melse\u001b[39;00m:\n\u001b[1;32m    305\u001b[0m     \u001b[39mself\u001b[39m\u001b[39m.\u001b[39mlog\u001b[39m.\u001b[39minfo(\u001b[39m\"\u001b[39m\u001b[39mRuntime not initialized yet.\u001b[39m\u001b[39m\"\u001b[39m)\n",
      "File \u001b[0;32m~/lava-nc/lava/src/lava/magma/runtime/runtime.py:321\u001b[0m, in \u001b[0;36mRuntime._run\u001b[0;34m(self, run_condition)\u001b[0m\n\u001b[1;32m    319\u001b[0m         send_port\u001b[39m.\u001b[39msend(enum_to_np(\u001b[39mself\u001b[39m\u001b[39m.\u001b[39mnum_steps))\n\u001b[1;32m    320\u001b[0m     \u001b[39mif\u001b[39;00m run_condition\u001b[39m.\u001b[39mblocking:\n\u001b[0;32m--> 321\u001b[0m         \u001b[39mself\u001b[39;49m\u001b[39m.\u001b[39;49m_get_resp_for_run()\n\u001b[1;32m    322\u001b[0m \u001b[39melif\u001b[39;00m \u001b[39misinstance\u001b[39m(run_condition, RunContinuous):\n\u001b[1;32m    323\u001b[0m     \u001b[39mself\u001b[39m\u001b[39m.\u001b[39mnum_steps \u001b[39m=\u001b[39m sys\u001b[39m.\u001b[39mmaxsize\n",
      "File \u001b[0;32m~/lava-nc/lava/src/lava/magma/runtime/runtime.py:264\u001b[0m, in \u001b[0;36mRuntime._get_resp_for_run\u001b[0;34m(self)\u001b[0m\n\u001b[1;32m    262\u001b[0m \u001b[39mif\u001b[39;00m \u001b[39mself\u001b[39m\u001b[39m.\u001b[39m_is_running:\n\u001b[1;32m    263\u001b[0m     \u001b[39mfor\u001b[39;00m recv_port \u001b[39min\u001b[39;00m \u001b[39mself\u001b[39m\u001b[39m.\u001b[39mservice_to_runtime:\n\u001b[0;32m--> 264\u001b[0m         data \u001b[39m=\u001b[39m recv_port\u001b[39m.\u001b[39;49mrecv()\n\u001b[1;32m    265\u001b[0m         \u001b[39mif\u001b[39;00m enum_equal(data, MGMT_RESPONSE\u001b[39m.\u001b[39mREQ_PAUSE):\n\u001b[1;32m    266\u001b[0m             \u001b[39mself\u001b[39m\u001b[39m.\u001b[39m_req_paused \u001b[39m=\u001b[39m \u001b[39mTrue\u001b[39;00m\n",
      "File \u001b[0;32m~/lava-nc/lava/src/lava/magma/compiler/channels/pypychannel.py:273\u001b[0m, in \u001b[0;36mCspRecvPort.recv\u001b[0;34m(self)\u001b[0m\n\u001b[1;32m    269\u001b[0m \u001b[39mdef\u001b[39;00m \u001b[39mrecv\u001b[39m(\u001b[39mself\u001b[39m):\n\u001b[1;32m    270\u001b[0m     \u001b[39m\"\"\"\u001b[39;00m\n\u001b[1;32m    271\u001b[0m \u001b[39m    Receive from the channel. Blocks if there is no data on the channel.\u001b[39;00m\n\u001b[1;32m    272\u001b[0m \u001b[39m    \"\"\"\u001b[39;00m\n\u001b[0;32m--> 273\u001b[0m     \u001b[39mself\u001b[39;49m\u001b[39m.\u001b[39;49m_queue\u001b[39m.\u001b[39;49mget()\n\u001b[1;32m    274\u001b[0m     result \u001b[39m=\u001b[39m \u001b[39mself\u001b[39m\u001b[39m.\u001b[39m_array[\u001b[39mself\u001b[39m\u001b[39m.\u001b[39m_idx]\u001b[39m.\u001b[39mcopy()\n\u001b[1;32m    275\u001b[0m     \u001b[39mself\u001b[39m\u001b[39m.\u001b[39m_idx \u001b[39m=\u001b[39m (\u001b[39mself\u001b[39m\u001b[39m.\u001b[39m_idx \u001b[39m+\u001b[39m \u001b[39m1\u001b[39m) \u001b[39m%\u001b[39m \u001b[39mself\u001b[39m\u001b[39m.\u001b[39m_size\n",
      "File \u001b[0;32m~/lava-nc/lava/src/lava/magma/compiler/channels/pypychannel.py:152\u001b[0m, in \u001b[0;36mCspRecvQueue.get\u001b[0;34m(self, block, timeout, peek)\u001b[0m\n\u001b[1;32m    150\u001b[0m \u001b[39melif\u001b[39;00m timeout \u001b[39mis\u001b[39;00m \u001b[39mNone\u001b[39;00m:\n\u001b[1;32m    151\u001b[0m     \u001b[39mwhile\u001b[39;00m \u001b[39mnot\u001b[39;00m \u001b[39mself\u001b[39m\u001b[39m.\u001b[39m_qsize():\n\u001b[0;32m--> 152\u001b[0m         \u001b[39mself\u001b[39;49m\u001b[39m.\u001b[39;49mnot_empty\u001b[39m.\u001b[39;49mwait()\n\u001b[1;32m    153\u001b[0m \u001b[39melif\u001b[39;00m timeout \u001b[39m<\u001b[39m \u001b[39m0\u001b[39m:\n\u001b[1;32m    154\u001b[0m     \u001b[39mraise\u001b[39;00m \u001b[39mValueError\u001b[39;00m(\u001b[39m\"\u001b[39m\u001b[39m'\u001b[39m\u001b[39mtimeout\u001b[39m\u001b[39m'\u001b[39m\u001b[39m must be a non-negative number\u001b[39m\u001b[39m\"\u001b[39m)\n",
      "File \u001b[0;32m/usr/lib/python3.8/threading.py:302\u001b[0m, in \u001b[0;36mCondition.wait\u001b[0;34m(self, timeout)\u001b[0m\n\u001b[1;32m    300\u001b[0m \u001b[39mtry\u001b[39;00m:    \u001b[39m# restore state no matter what (e.g., KeyboardInterrupt)\u001b[39;00m\n\u001b[1;32m    301\u001b[0m     \u001b[39mif\u001b[39;00m timeout \u001b[39mis\u001b[39;00m \u001b[39mNone\u001b[39;00m:\n\u001b[0;32m--> 302\u001b[0m         waiter\u001b[39m.\u001b[39;49macquire()\n\u001b[1;32m    303\u001b[0m         gotit \u001b[39m=\u001b[39m \u001b[39mTrue\u001b[39;00m\n\u001b[1;32m    304\u001b[0m     \u001b[39melse\u001b[39;00m:\n",
      "\u001b[0;31mKeyboardInterrupt\u001b[0m: "
     ]
    }
   ],
   "source": [
    "if loihi2_is_available:\n",
    "    run_config = Loihi2HwCfg()\n",
    "else:\n",
    "    run_config = CustomRunConfig(select_tag='fixed_pt')\n",
    "net._log_config.level = logging.INFO\n",
    "net.run(condition=RunSteps(num_steps=num_steps), run_cfg=run_config)\n",
    "output = output_logger.data.get().flatten()\n",
    "gts = gt_logger.data.get().flatten()\n",
    "net.stop()\n",
    "\n",
    "if loihi2_is_available:\n",
    "    # reinterpret the data as 24 bit signed value\n",
    "    output = (output.astype(np.int32) << 8) >> 8\n"
   ]
  },
  {
   "cell_type": "markdown",
   "metadata": {},
   "source": [
    "## Evaluate Results\n",
    "Plot and compare the results with the dataset ground truth."
   ]
  },
  {
   "cell_type": "code",
   "execution_count": null,
   "metadata": {},
   "outputs": [],
   "source": [
    "# There is an additional 1 timestep delay for spike transmission between output layer to x86 processor\n",
    "offset = 2 if loihi2_is_available else 1\n",
    "    \n",
    "plt.figure(figsize=(7, 5))\n",
    "plt.plot(np.array(gts), label='Ground Truth')\n",
    "plt.plot(np.array(output[len(net.layers) + offset:]).flatten()/(1<<18), label='Lava output')\n",
    "plt.xlabel(f'Sample frames (+10550)')\n",
    "plt.ylabel('Steering angle (radians)')\n",
    "plt.legend()"
   ]
  }
 ],
 "metadata": {
  "kernelspec": {
   "display_name": "Python 3",
   "language": "python",
   "name": "python3"
  },
  "language_info": {
   "codemirror_mode": {
    "name": "ipython",
    "version": 3
   },
   "file_extension": ".py",
   "mimetype": "text/x-python",
   "name": "python",
   "nbconvert_exporter": "python",
   "pygments_lexer": "ipython3",
   "version": "3.8.10"
  },
  "vscode": {
   "interpreter": {
    "hash": "7ebb4c32c029abbab1fd16ef4d8ac43152261b56d4033e55d2744ce843ecba08"
   }
  }
 },
 "nbformat": 4,
 "nbformat_minor": 4
}
