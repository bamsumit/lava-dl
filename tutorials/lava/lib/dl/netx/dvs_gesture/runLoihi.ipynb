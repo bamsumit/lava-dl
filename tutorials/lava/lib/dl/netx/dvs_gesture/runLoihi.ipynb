{
 "cells": [
  {
   "cell_type": "markdown",
   "metadata": {},
   "source": [
    "# DVS Gesture\n",
    "\n",
    "Add intro..."
   ]
  },
  {
   "cell_type": "code",
   "execution_count": 1,
   "metadata": {},
   "outputs": [],
   "source": [
    "import numpy as np\n",
    "import matplotlib.pyplot as plt\n",
    "\n",
    "from lava.magma.core.run_configs import Loihi2HwCfg\n",
    "from lava.magma.core.run_conditions import RunSteps\n",
    "from lava.proc import io\n",
    "from lava.proc import snip_io as sio\n",
    "\n",
    "from dataset import IBMGestureDataset"
   ]
  },
  {
   "cell_type": "markdown",
   "metadata": {},
   "source": [
    "## Network Exchange (NetX) Libarary\n",
    "\n",
    "NetX api allows automatic creation of Lava process from the network specification. It is available as a part of Lava-DL library as `lava.lib.dl.netx`"
   ]
  },
  {
   "cell_type": "code",
   "execution_count": 2,
   "metadata": {},
   "outputs": [],
   "source": [
    "from lava.lib.dl import netx\n",
    "from lava.lib.dl import slayer"
   ]
  },
  {
   "cell_type": "markdown",
   "metadata": {},
   "source": [
    "## Create network block\n",
    "\n",
    "A Lava process describing the network can be created by simply instantiating `netx.hdf5.Network` with the path of the desired hdf5 network description file.\n",
    "* The input layer is accessible as `net.in_layer`.\n",
    "* The output layer is accessible as `net.out_layer`.\n",
    "* All the constituent layers are accessible as as a list: `net.layers`."
   ]
  },
  {
   "cell_type": "code",
   "execution_count": 3,
   "metadata": {},
   "outputs": [
    {
     "name": "stdout",
     "output_type": "stream",
     "text": [
      "|   Type   |  W  |  H  |  C  | ker | str | pad | dil | grp |delay|\n",
      "|Conv      |   16|   16|   16| 5, 5| 2, 2| 2, 2| 1, 1|    1|False|\n",
      "|Conv      |    8|    8|   32| 3, 3| 2, 2| 1, 1| 1, 1|    1|False|\n",
      "|Dense     |    1|    1|  512|     |     |     |     |     |False|\n",
      "|Dense     |    1|    1|   11|     |     |     |     |     |False|\n"
     ]
    }
   ],
   "source": [
    "net = netx.hdf5.Network(net_config='Trained/network.net')\n",
    "print(net)"
   ]
  },
  {
   "cell_type": "code",
   "execution_count": 4,
   "metadata": {},
   "outputs": [],
   "source": [
    "num_samples = 20\n",
    "steps_per_sample = 1500\n",
    "blank_time = 100\n",
    "num_steps = num_samples * (steps_per_sample + blank_time) + 1"
   ]
  },
  {
   "cell_type": "markdown",
   "metadata": {},
   "source": [
    "## Create Dataset instance\n",
    "Typically the user would write it or provide it."
   ]
  },
  {
   "cell_type": "code",
   "execution_count": 5,
   "metadata": {},
   "outputs": [],
   "source": [
    "test_set = IBMGestureDataset(path='/nfs/ncl/datasets/DVSgesture',\n",
    "                             steps_per_sample=steps_per_sample,\n",
    "                             blank_time=blank_time)"
   ]
  },
  {
   "cell_type": "markdown",
   "metadata": {},
   "source": [
    "# Instantiate Dataloader"
   ]
  },
  {
   "cell_type": "code",
   "execution_count": 6,
   "metadata": {},
   "outputs": [],
   "source": [
    "dataloader = io.dataloader.SpikeDataloader(dataset=test_set,\n",
    "                                           interval=steps_per_sample + blank_time)"
   ]
  },
  {
   "cell_type": "markdown",
   "metadata": {},
   "source": [
    "# Connect Input and Output"
   ]
  },
  {
   "cell_type": "code",
   "execution_count": 7,
   "metadata": {},
   "outputs": [],
   "source": [
    "gt_logger = io.sink.RingBuffer(shape=(1,), buffer=num_steps)\n",
    "output_logger = io.sink.RingBuffer(shape=net.out_layer.out.shape,\n",
    "                                   buffer=num_steps)\n",
    "inp_adapter = sio.spike.PyToNxAdapter(shape=net.inp.shape)\n",
    "out_adapter = sio.spike.NxToPyAdapter(shape=net.out.shape)\n",
    "\n",
    "dataloader.ground_truth.connect(gt_logger.a_in)\n",
    "dataloader.s_out.connect(inp_adapter.inp)\n",
    "inp_adapter.out.connect(net.in_layer.synapse.s_in)\n",
    "net.out_layer.neuron.s_out.connect(out_adapter.inp)\n",
    "out_adapter.out.connect(output_logger.a_in)"
   ]
  },
  {
   "cell_type": "markdown",
   "metadata": {},
   "source": [
    "## Run the network\n"
   ]
  },
  {
   "cell_type": "code",
   "execution_count": 8,
   "metadata": {},
   "outputs": [],
   "source": [
    "import os\n",
    "import logging\n",
    "\n",
    "os.environ['SLURM'] = '1'\n",
    "os.environ['PARTITION'] = 'oheogulch'\n",
    "os.environ['LOIHI_GEN'] = 'N3B3'"
   ]
  },
  {
   "cell_type": "code",
   "execution_count": 9,
   "metadata": {},
   "outputs": [],
   "source": [
    "from lava.proc.conv.process import Conv\n",
    "from lava.proc.conv.ncmodels import NcL2ModelConv, NcL1ModelConvAsSparse\n",
    "\n",
    "class CustomRunCfg(Loihi2HwCfg):\n",
    "    def select(self, process, proc_models):\n",
    "        if isinstance(process, Conv):\n",
    "            return NcL1ModelConvAsSparse\n",
    "        else:\n",
    "            return super().select(process, proc_models)"
   ]
  },
  {
   "cell_type": "code",
   "execution_count": 10,
   "metadata": {},
   "outputs": [
    {
     "name": "stdout",
     "output_type": "stream",
     "text": [
      "Violation core_id=1 reg_name='SynMem' last_allocation=247808 self.cost_db.registers[reg_name]=8184\n",
      "Violation core_id=2 reg_name='SynMem' last_allocation=32048 self.cost_db.registers[reg_name]=8184\n",
      "Violation core_id=4 reg_name='SynMem' last_allocation=11664 self.cost_db.registers[reg_name]=8184\n",
      "Final max_ratio=1\n",
      "Final max_ratio=31\n",
      "Violation core_id=1 reg_name='SynMem' last_allocation=16384 self.cost_db.registers[reg_name]=8184\n",
      "Final max_ratio=5\n",
      "Violation core_id=2 reg_name='SynMem' last_allocation=32048 self.cost_db.registers[reg_name]=8184\n",
      "Final max_ratio=2\n",
      "Violation core_id=4 reg_name='SynMem' last_allocation=11664 self.cost_db.registers[reg_name]=8184\n",
      "Final max_ratio=1\n",
      "Final max_ratio=3\n",
      "Final max_ratio=5\n",
      "Violation core_id=2 reg_name='SynMem' last_allocation=32048 self.cost_db.registers[reg_name]=8184\n",
      "Final max_ratio=2\n",
      "Violation core_id=4 reg_name='SynMem' last_allocation=11664 self.cost_db.registers[reg_name]=8184\n",
      "Final max_ratio=1\n",
      "Final max_ratio=1\n",
      "Violation core_id=1 reg_name='SynMem' last_allocation=247808 self.cost_db.registers[reg_name]=8184\n",
      "Final max_ratio=5\n",
      "Final max_ratio=2\n",
      "Violation core_id=4 reg_name='SynMem' last_allocation=11664 self.cost_db.registers[reg_name]=8184\n",
      "Final max_ratio=1\n",
      "Final max_ratio=31\n",
      "Violation core_id=1 reg_name='SynMem' last_allocation=16384 self.cost_db.registers[reg_name]=8184\n",
      "Final max_ratio=1\n",
      "Violation core_id=17 reg_name='SynMem' last_allocation=32048 self.cost_db.registers[reg_name]=8184\n",
      "Final max_ratio=2\n",
      "Violation core_id=4 reg_name='SynMem' last_allocation=11664 self.cost_db.registers[reg_name]=8184\n",
      "Final max_ratio=1\n",
      "Final max_ratio=3\n",
      "Final max_ratio=5\n",
      "Violation core_id=17 reg_name='SynMem' last_allocation=32048 self.cost_db.registers[reg_name]=8184\n",
      "Final max_ratio=2\n",
      "Violation core_id=4 reg_name='SynMem' last_allocation=11664 self.cost_db.registers[reg_name]=8184\n",
      "Final max_ratio=1\n",
      "Final max_ratio=1\n",
      "Violation core_id=1 reg_name='SynMem' last_allocation=247808 self.cost_db.registers[reg_name]=8184\n",
      "Final max_ratio=5\n",
      "Final max_ratio=2\n",
      "Violation core_id=4 reg_name='SynMem' last_allocation=11664 self.cost_db.registers[reg_name]=8184\n",
      "Final max_ratio=1\n",
      "Final max_ratio=31\n",
      "Violation core_id=1 reg_name='SynMem' last_allocation=16384 self.cost_db.registers[reg_name]=8184\n",
      "Final max_ratio=1\n",
      "Violation core_id=17 reg_name='SynMem' last_allocation=32048 self.cost_db.registers[reg_name]=8184\n",
      "Final max_ratio=2\n",
      "Violation core_id=4 reg_name='SynMem' last_allocation=11664 self.cost_db.registers[reg_name]=8184\n",
      "Final max_ratio=1\n",
      "Final max_ratio=3\n",
      "Final max_ratio=5\n",
      "Violation core_id=17 reg_name='SynMem' last_allocation=32048 self.cost_db.registers[reg_name]=8184\n",
      "Final max_ratio=2\n",
      "Violation core_id=4 reg_name='SynMem' last_allocation=11664 self.cost_db.registers[reg_name]=8184\n",
      "Final max_ratio=1\n",
      "Final max_ratio=1\n",
      "Violation core_id=1 reg_name='SynMem' last_allocation=247808 self.cost_db.registers[reg_name]=8184\n",
      "Final max_ratio=5\n",
      "Final max_ratio=2\n",
      "Violation core_id=4 reg_name='SynMem' last_allocation=11664 self.cost_db.registers[reg_name]=8184\n",
      "Final max_ratio=1\n",
      "Final max_ratio=31\n",
      "Violation core_id=1 reg_name='SynMem' last_allocation=16384 self.cost_db.registers[reg_name]=8184\n",
      "Final max_ratio=1\n",
      "Violation core_id=17 reg_name='SynMem' last_allocation=32048 self.cost_db.registers[reg_name]=8184\n",
      "Final max_ratio=2\n",
      "Violation core_id=4 reg_name='SynMem' last_allocation=11664 self.cost_db.registers[reg_name]=8184\n",
      "Final max_ratio=1\n",
      "Final max_ratio=3\n",
      "Final max_ratio=5\n",
      "Violation core_id=17 reg_name='SynMem' last_allocation=32048 self.cost_db.registers[reg_name]=8184\n",
      "Final max_ratio=2\n"
     ]
    },
    {
     "ename": "Exception",
     "evalue": "Partitioning could not converge",
     "output_type": "error",
     "traceback": [
      "\u001b[0;31m---------------------------------------------------------------------------\u001b[0m",
      "\u001b[0;31mException\u001b[0m                                 Traceback (most recent call last)",
      "\u001b[1;32m/home/sshresth/lava-nc/lava-dl/tutorials/lava/lib/dl/netx/dvs_gesture/runLoihi.ipynb Cell 17\u001b[0m in \u001b[0;36m<cell line: 1>\u001b[0;34m()\u001b[0m\n\u001b[0;32m----> <a href='vscode-notebook-cell://ssh-remote%2Bncl-gpu-04/home/sshresth/lava-nc/lava-dl/tutorials/lava/lib/dl/netx/dvs_gesture/runLoihi.ipynb#X24sdnNjb2RlLXJlbW90ZQ%3D%3D?line=0'>1</a>\u001b[0m net\u001b[39m.\u001b[39;49mrun(condition\u001b[39m=\u001b[39;49mRunSteps(num_steps\u001b[39m=\u001b[39;49mnum_steps), run_cfg\u001b[39m=\u001b[39;49mCustomRunCfg())\n\u001b[1;32m      <a href='vscode-notebook-cell://ssh-remote%2Bncl-gpu-04/home/sshresth/lava-nc/lava-dl/tutorials/lava/lib/dl/netx/dvs_gesture/runLoihi.ipynb#X24sdnNjb2RlLXJlbW90ZQ%3D%3D?line=1'>2</a>\u001b[0m net\u001b[39m.\u001b[39m_log_config\u001b[39m.\u001b[39mlevel \u001b[39m=\u001b[39m logging\u001b[39m.\u001b[39mINFO\n\u001b[1;32m      <a href='vscode-notebook-cell://ssh-remote%2Bncl-gpu-04/home/sshresth/lava-nc/lava-dl/tutorials/lava/lib/dl/netx/dvs_gesture/runLoihi.ipynb#X24sdnNjb2RlLXJlbW90ZQ%3D%3D?line=2'>3</a>\u001b[0m output \u001b[39m=\u001b[39m output_logger\u001b[39m.\u001b[39mdata\u001b[39m.\u001b[39mget()\n",
      "File \u001b[0;32m~/lava-nc/lava/src/lava/magma/core/process/process.py:338\u001b[0m, in \u001b[0;36mAbstractProcess.run\u001b[0;34m(self, condition, run_cfg, compile_config)\u001b[0m\n\u001b[1;32m    333\u001b[0m \u001b[39mif\u001b[39;00m \u001b[39mnot\u001b[39;00m run_cfg:\n\u001b[1;32m    334\u001b[0m     \u001b[39mraise\u001b[39;00m \u001b[39mValueError\u001b[39;00m(\u001b[39m\"\u001b[39m\u001b[39mThe Processes that are to be executed have \u001b[39m\u001b[39m\"\u001b[39m\n\u001b[1;32m    335\u001b[0m                      \u001b[39m\"\u001b[39m\u001b[39mnot been compiled yet. This requires that a\u001b[39m\u001b[39m\"\u001b[39m\n\u001b[1;32m    336\u001b[0m                      \u001b[39m\"\u001b[39m\u001b[39mRunConfig is passed to the run() method.\u001b[39m\u001b[39m\"\u001b[39m)\n\u001b[0;32m--> 338\u001b[0m executable \u001b[39m=\u001b[39m \u001b[39mself\u001b[39;49m\u001b[39m.\u001b[39;49mcompile(run_cfg, compile_config)\n\u001b[1;32m    339\u001b[0m \u001b[39mself\u001b[39m\u001b[39m.\u001b[39m_runtime \u001b[39m=\u001b[39m Runtime(executable,\n\u001b[1;32m    340\u001b[0m                         ActorType\u001b[39m.\u001b[39mMultiProcessing,\n\u001b[1;32m    341\u001b[0m                         loglevel\u001b[39m=\u001b[39m\u001b[39mself\u001b[39m\u001b[39m.\u001b[39m_log_config\u001b[39m.\u001b[39mlevel)\n\u001b[1;32m    342\u001b[0m executable\u001b[39m.\u001b[39massign_runtime_to_all_processes(\u001b[39mself\u001b[39m\u001b[39m.\u001b[39m_runtime)\n",
      "File \u001b[0;32m~/lava-nc/lava/src/lava/magma/core/process/process.py:364\u001b[0m, in \u001b[0;36mAbstractProcess.compile\u001b[0;34m(self, run_cfg, compile_config)\u001b[0m\n\u001b[1;32m    362\u001b[0m \u001b[39mfrom\u001b[39;00m \u001b[39mlava\u001b[39;00m\u001b[39m.\u001b[39;00m\u001b[39mmagma\u001b[39;00m\u001b[39m.\u001b[39;00m\u001b[39mcompiler\u001b[39;00m\u001b[39m.\u001b[39;00m\u001b[39mcompiler\u001b[39;00m \u001b[39mimport\u001b[39;00m Compiler\n\u001b[1;32m    363\u001b[0m compiler \u001b[39m=\u001b[39m Compiler(compile_config, \u001b[39mself\u001b[39m\u001b[39m.\u001b[39m_log_config\u001b[39m.\u001b[39mlevel)\n\u001b[0;32m--> 364\u001b[0m \u001b[39mreturn\u001b[39;00m compiler\u001b[39m.\u001b[39;49mcompile(\u001b[39mself\u001b[39;49m, run_cfg)\n",
      "File \u001b[0;32m~/lava-nc/lava/src/lava/magma/compiler/compiler.py:132\u001b[0m, in \u001b[0;36mCompiler.compile\u001b[0;34m(self, process, run_cfg)\u001b[0m\n\u001b[1;32m    130\u001b[0m proc_groups: ty\u001b[39m.\u001b[39mList[ProcGroup] \u001b[39m=\u001b[39m proc_group_digraph\u001b[39m.\u001b[39mget_proc_groups()\n\u001b[1;32m    131\u001b[0m channel_map \u001b[39m=\u001b[39m ChannelMap\u001b[39m.\u001b[39mfrom_proc_groups(proc_groups)\n\u001b[0;32m--> 132\u001b[0m proc_builders, channel_map \u001b[39m=\u001b[39m \u001b[39mself\u001b[39;49m\u001b[39m.\u001b[39;49m_compile_proc_groups(\n\u001b[1;32m    133\u001b[0m     proc_groups, channel_map\n\u001b[1;32m    134\u001b[0m )\n\u001b[1;32m    135\u001b[0m py_builders, c_builders, nc_builders \u001b[39m=\u001b[39m split_proc_builders_by_type(\n\u001b[1;32m    136\u001b[0m     proc_builders\n\u001b[1;32m    137\u001b[0m )\n\u001b[1;32m    139\u001b[0m node_configs \u001b[39m=\u001b[39m \u001b[39mself\u001b[39m\u001b[39m.\u001b[39m_create_node_cfgs(proc_groups)\n",
      "File \u001b[0;32m~/lava-nc/lava/src/lava/magma/compiler/compiler.py:227\u001b[0m, in \u001b[0;36mCompiler._compile_proc_groups\u001b[0;34m(self, proc_groups, channel_map)\u001b[0m\n\u001b[1;32m    224\u001b[0m     subcompilers\u001b[39m.\u001b[39mappend(pg_subcompilers)\n\u001b[1;32m    226\u001b[0m     \u001b[39m# Compile this ProcGroup.\u001b[39;00m\n\u001b[0;32m--> 227\u001b[0m     \u001b[39mself\u001b[39;49m\u001b[39m.\u001b[39;49m_compile_proc_group(pg_subcompilers, channel_map)\n\u001b[1;32m    229\u001b[0m \u001b[39m# Flatten the list of all SubCompilers.\u001b[39;00m\n\u001b[1;32m    230\u001b[0m subcompilers \u001b[39m=\u001b[39m \u001b[39mlist\u001b[39m(itertools\u001b[39m.\u001b[39mchain\u001b[39m.\u001b[39mfrom_iterable(subcompilers))\n",
      "File \u001b[0;32m~/lava-nc/lava/src/lava/magma/compiler/compiler.py:370\u001b[0m, in \u001b[0;36mCompiler._compile_proc_group\u001b[0;34m(subcompilers, channel_map)\u001b[0m\n\u001b[1;32m    366\u001b[0m channel_map_prev \u001b[39m=\u001b[39m channel_map\u001b[39m.\u001b[39mcopy()\n\u001b[1;32m    367\u001b[0m \u001b[39mfor\u001b[39;00m subcompiler \u001b[39min\u001b[39;00m subcompilers:\n\u001b[1;32m    368\u001b[0m     \u001b[39m# Compile the Processes registered with each SubCompiler and\u001b[39;00m\n\u001b[1;32m    369\u001b[0m     \u001b[39m# update the ChannelMap.\u001b[39;00m\n\u001b[0;32m--> 370\u001b[0m     channel_map \u001b[39m=\u001b[39m subcompiler\u001b[39m.\u001b[39;49mcompile(channel_map)\n",
      "File \u001b[0;32m~/lava-nc/frameworks.ai.lava.lava/src/lava/magma/compiler/subcompilers/nc/ncproc_compiler.py:341\u001b[0m, in \u001b[0;36mNcProcCompiler.compile\u001b[0;34m(self, channel_map)\u001b[0m\n\u001b[1;32m    337\u001b[0m strategies \u001b[39m=\u001b[39m \u001b[39mself\u001b[39m\u001b[39m.\u001b[39m_get_optimization_strategies()\n\u001b[1;32m    338\u001b[0m \u001b[39mself\u001b[39m\u001b[39m.\u001b[39m_partitioner \u001b[39m=\u001b[39m Partitioner(\u001b[39mself\u001b[39m\u001b[39m.\u001b[39m_reg_nets,\n\u001b[1;32m    339\u001b[0m                                 strategies,\n\u001b[1;32m    340\u001b[0m                                 channel_map)\n\u001b[0;32m--> 341\u001b[0m \u001b[39mself\u001b[39;49m\u001b[39m.\u001b[39;49m_partitioner\u001b[39m.\u001b[39;49mpartition()\n\u001b[1;32m    342\u001b[0m \u001b[39mself\u001b[39m\u001b[39m.\u001b[39m_update_channel_map(channel_map)\n\u001b[1;32m    343\u001b[0m \u001b[39mreturn\u001b[39;00m channel_map\n",
      "File \u001b[0;32m~/lava-nc/frameworks.ai.lava.lava/src/lava/magma/compiler/subcompilers/nc/ncproc_compiler.py:901\u001b[0m, in \u001b[0;36mPartitioner.partition\u001b[0;34m(self)\u001b[0m\n\u001b[1;32m    899\u001b[0m     \u001b[39mself\u001b[39m\u001b[39m.\u001b[39m_core_offset \u001b[39m=\u001b[39m tmp\n\u001b[1;32m    900\u001b[0m     \u001b[39mself\u001b[39m\u001b[39m.\u001b[39m_clear_partitions()\n\u001b[0;32m--> 901\u001b[0m     \u001b[39mself\u001b[39;49m\u001b[39m.\u001b[39;49m_update_partitioning()\n\u001b[1;32m    902\u001b[0m     iteration \u001b[39m+\u001b[39m\u001b[39m=\u001b[39m \u001b[39m1\u001b[39m\n\u001b[1;32m    903\u001b[0m \u001b[39mreturn\u001b[39;00m \u001b[39mself\u001b[39m\u001b[39m.\u001b[39mpartitions\n",
      "File \u001b[0;32m~/lava-nc/frameworks.ai.lava.lava/src/lava/magma/compiler/subcompilers/nc/ncproc_compiler.py:928\u001b[0m, in \u001b[0;36mPartitioner._update_partitioning\u001b[0;34m(self)\u001b[0m\n\u001b[1;32m    926\u001b[0m i \u001b[39m=\u001b[39m \u001b[39m0\u001b[39m\n\u001b[1;32m    927\u001b[0m \u001b[39mfor\u001b[39;00m strategy, partition, reg_net \u001b[39min\u001b[39;00m zipped:\n\u001b[0;32m--> 928\u001b[0m     hyper_params \u001b[39m=\u001b[39m strategy\u001b[39m.\u001b[39;49mupdate_hyper_params()\n\u001b[1;32m    929\u001b[0m     core_ids \u001b[39m=\u001b[39m strategy\u001b[39m.\u001b[39mgen_core_ids(hyper_params,\n\u001b[1;32m    930\u001b[0m                                      reg_net\u001b[39m.\u001b[39msize(),\n\u001b[1;32m    931\u001b[0m                                      \u001b[39mself\u001b[39m\u001b[39m.\u001b[39m_core_offset)\n\u001b[1;32m    932\u001b[0m     \u001b[39mself\u001b[39m\u001b[39m.\u001b[39m_update_core_offset(core_ids)\n",
      "File \u001b[0;32m~/lava-nc/frameworks.ai.lava.lava/src/lava/magma/compiler/subcompilers/nc/optimization/cost.py:159\u001b[0m, in \u001b[0;36mDiscreteConnStrategy.update_hyper_params\u001b[0;34m(self)\u001b[0m\n\u001b[1;32m    154\u001b[0m         num_neurons_per_core: \u001b[39mint\u001b[39m \u001b[39m=\u001b[39m \\\n\u001b[1;32m    155\u001b[0m             \u001b[39mint\u001b[39m(last_hyper_param\u001b[39m.\u001b[39mnum_neurons_per_core\n\u001b[1;32m    156\u001b[0m                 \u001b[39m/\u001b[39m max_exceedance_factor)\n\u001b[1;32m    158\u001b[0m \u001b[39mif\u001b[39;00m num_neurons_per_core \u001b[39m==\u001b[39m \u001b[39m0\u001b[39m:\n\u001b[0;32m--> 159\u001b[0m     \u001b[39mraise\u001b[39;00m \u001b[39mException\u001b[39;00m(\u001b[39m\"\u001b[39m\u001b[39mPartitioning could not converge\u001b[39m\u001b[39m\"\u001b[39m)\n\u001b[1;32m    160\u001b[0m d \u001b[39m=\u001b[39m DiscreteHyperParam(num_neurons_per_core\u001b[39m=\u001b[39mnum_neurons_per_core)\n\u001b[1;32m    161\u001b[0m \u001b[39mself\u001b[39m\u001b[39m.\u001b[39m_hyper_params\u001b[39m.\u001b[39mappend(d)\n",
      "\u001b[0;31mException\u001b[0m: Partitioning could not converge"
     ]
    }
   ],
   "source": [
    "\n",
    "net.run(condition=RunSteps(num_steps=num_steps), run_cfg=CustomRunCfg())\n",
    "net._log_config.level = logging.INFO\n",
    "output = output_logger.data.get()\n",
    "net.stop()"
   ]
  }
 ],
 "metadata": {
  "kernelspec": {
   "display_name": "Python 3.8.10 ('lava_nx_env')",
   "language": "python",
   "name": "python3"
  },
  "language_info": {
   "codemirror_mode": {
    "name": "ipython",
    "version": 3
   },
   "file_extension": ".py",
   "mimetype": "text/x-python",
   "name": "python",
   "nbconvert_exporter": "python",
   "pygments_lexer": "ipython3",
   "version": "3.8.10"
  },
  "orig_nbformat": 4,
  "vscode": {
   "interpreter": {
    "hash": "7ebb4c32c029abbab1fd16ef4d8ac43152261b56d4033e55d2744ce843ecba08"
   }
  }
 },
 "nbformat": 4,
 "nbformat_minor": 2
}
