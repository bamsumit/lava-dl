{
 "cells": [
  {
   "cell_type": "markdown",
   "metadata": {},
   "source": [
    "# PilotNet LIF Benchmarking Example\n",
    "\n",
    "This tutorial demonstrates how to use __lava__ to perform __energy__, __execution__, __memory__ and __activity__ on a PilotNet LIF network running on Loihi 2. _Note: This tutorial only runs on Lohi 2 backend._\n",
    "\n",
    "# TODO change graphics\n",
    "![PilotNet Inference](images/pilotnet_lif.PNG)\n",
    "\n",
    "Refer to [run.ipynb](https://github.com/lava-nc/lava-dl/blob/main/tutorials/lava/lib/dl/netx/pilotnet_snn/run.ipynb) for detailed walkthrough of how to inference the network on both CPU and Loihi 2."
   ]
  },
  {
   "cell_type": "code",
   "execution_count": null,
   "metadata": {},
   "outputs": [],
   "source": [
    "import numpy as np\n",
    "import matplotlib.pyplot as plt\n",
    "\n",
    "from lava.magma.core.run_configs import Loihi2SimCfg, Loihi2HwCfg\n",
    "from lava.magma.core.run_conditions import RunSteps\n",
    "# from lava.proc import io\n",
    "# from lava.magma.core.process.variable import Var\n",
    "# from lava.magma.core.process.ports.ports import RefPort\n",
    "\n",
    "from lava.lib.dl import netx\n",
    "from dataset import PilotNetDataset\n",
    "# from utils import (\n",
    "#     PilotNetEncoder, PilotNetDecoder, VoltageReader, PilotNetMonitor,\n",
    "#     loihi2hw_exception_map, loihi2sim_exception_map\n",
    "# )\n"
   ]
  },
  {
   "cell_type": "markdown",
   "metadata": {},
   "source": [
    "# Import modules for Loihi2 execution\n",
    "\n",
    "Check if Loihi2 compiker is available and import related modules."
   ]
  },
  {
   "cell_type": "code",
   "execution_count": null,
   "metadata": {},
   "outputs": [],
   "source": [
    "from lava.utils.system import Loihi2\n",
    "Loihi2.preferred_partition = 'kp_build'\n",
    "loihi2_is_available = Loihi2.is_loihi2_available\n",
    "\n",
    "if loihi2_is_available:\n",
    "    print(f'Running on {Loihi2.partition}')\n",
    "    from lava.utils import loihi2_profiler\n",
    "else:\n",
    "    RuntimeError(\"Loihi2 compiler is not available in this system. \"\n",
    "                 \"This tutorial cannot proceed further.\")"
   ]
  },
  {
   "cell_type": "markdown",
   "metadata": {},
   "source": [
    "## Create network block\n",
    "\n",
    "PilotNet LIF is described by the hdf5 file inference `network.net`."
   ]
  },
  {
   "cell_type": "code",
   "execution_count": null,
   "metadata": {},
   "outputs": [],
   "source": [
    "net = netx.hdf5.Network(net_config='network.net',\n",
    "                        reset_interval=16,\n",
    "                        reset_offset=3)\n",
    "print(net)\n"
   ]
  },
  {
   "cell_type": "markdown",
   "metadata": {},
   "source": [
    "## Set execution parameters\n",
    "Configure number of samples, execution timesteps, and readout offset."
   ]
  },
  {
   "cell_type": "code",
   "execution_count": null,
   "metadata": {},
   "outputs": [],
   "source": [
    "steps_per_sample = net.reset_interval\n",
    "num_steps = 10000  # Run for a very long time to get good power measurement\n"
   ]
  },
  {
   "cell_type": "markdown",
   "metadata": {},
   "source": [
    "## Create Dataset instance\n",
    "Typically the user would write it or provide it."
   ]
  },
  {
   "cell_type": "code",
   "execution_count": null,
   "metadata": {},
   "outputs": [],
   "source": [
    "full_set = PilotNetDataset(\n",
    "    path='../data',\n",
    "    transform=net.in_layer.transform,  # input transform\n",
    "    visualize=True,  # visualize ensures the images are returned in sequence\n",
    "    sample_offset=10550,\n",
    ")"
   ]
  },
  {
   "cell_type": "markdown",
   "metadata": {},
   "source": [
    "## Write a representative frame to the network\n",
    "Here, we will configure the network to repeatedly run on a single frame to avoid IO bottleneck."
   ]
  },
  {
   "cell_type": "code",
   "execution_count": null,
   "metadata": {},
   "outputs": [],
   "source": [
    "frame_id = 100\n",
    "image, gt = full_set[frame_id]\n",
    "net.in_layer.neuron.bias = image\n"
   ]
  },
  {
   "cell_type": "markdown",
   "metadata": {},
   "source": [
    "## Configure profiling tools"
   ]
  },
  {
   "cell_type": "code",
   "execution_count": null,
   "metadata": {},
   "outputs": [],
   "source": [
    "power_logger = loihi2_profiler.Loihi2Power(num_steps=num_steps)\n",
    "runtime_logger = loihi2_profiler.Loihi2ExecutionTime()\n",
    "memory_logger = loihi2_profiler.Loihi2Memory()\n",
    "activity_logger = loihi2_profiler.Loihi2Activity()\n",
    "\n",
    "pre_run_fxs = [\n",
    "    lambda b: power_logger.attach(b),\n",
    "    lambda b: runtime_logger.attach(b),\n",
    "    lambda b: memory_logger.attach(b),\n",
    "    lambda b: activity_logger.attach(b),\n",
    "]\n",
    "post_run_fxs = [\n",
    "    lambda b: power_logger.get_results(),\n",
    "    lambda b: runtime_logger.get_results(),\n",
    "    lambda b: memory_logger.get_results(),\n",
    "    lambda b: activity_logger.get_results(),\n",
    "]"
   ]
  },
  {
   "cell_type": "markdown",
   "metadata": {},
   "source": [
    "## Run the network"
   ]
  },
  {
   "cell_type": "code",
   "execution_count": null,
   "metadata": {},
   "outputs": [],
   "source": [
    "run_config = Loihi2HwCfg()\n",
    "net.run(condition=RunSteps(num_steps=num_steps), run_cfg=run_config)\n",
    "net.stop()"
   ]
  },
  {
   "cell_type": "markdown",
   "metadata": {},
   "source": [
    "## Evaluate Results\n",
    "Plot and compare the results with the dataset ground truth."
   ]
  },
  {
   "cell_type": "code",
   "execution_count": null,
   "metadata": {},
   "outputs": [],
   "source": [
    "plt.figure(figsize=(7, 5))\n",
    "plt.plot(np.array(gts), label='Ground Truth')\n",
    "plt.plot(result[1:].flatten(), label='Lava output')\n",
    "plt.xlabel(f'Sample frames (+10550)')\n",
    "plt.ylabel('Steering angle (radians)')\n",
    "plt.legend()\n"
   ]
  }
 ],
 "metadata": {
  "kernelspec": {
   "display_name": "Python 3",
   "language": "python",
   "name": "python3"
  },
  "language_info": {
   "codemirror_mode": {
    "name": "ipython",
    "version": 3
   },
   "file_extension": ".py",
   "mimetype": "text/x-python",
   "name": "python",
   "nbconvert_exporter": "python",
   "pygments_lexer": "ipython3",
   "version": "3.8.10"
  },
  "vscode": {
   "interpreter": {
    "hash": "7ebb4c32c029abbab1fd16ef4d8ac43152261b56d4033e55d2744ce843ecba08"
   }
  }
 },
 "nbformat": 4,
 "nbformat_minor": 4
}
